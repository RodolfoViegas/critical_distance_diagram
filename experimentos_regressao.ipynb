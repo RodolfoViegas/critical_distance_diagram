{
  "nbformat": 4,
  "nbformat_minor": 0,
  "metadata": {
    "colab": {
      "provenance": []
    },
    "kernelspec": {
      "name": "python3",
      "display_name": "Python 3"
    },
    "language_info": {
      "name": "python"
    }
  },
  "cells": [
    {
      "cell_type": "markdown",
      "source": [
        "# Comparação de Modelos de Regressão\n",
        "\n",
        "Este *notebook* demonstra o uso dos teste não-paramétricos de Friedman e de Nemenyi para comparar modelos em muitas bases de dados. Baseado no artigo [***Statistical Comparisons of Classifiers\n",
        "over Multiple Data Sets***](https://jmlr.org/papers/volume7/demsar06a/demsar06a.pdf) de Janez Demsar.\n",
        "\n",
        "Para executá-los usa-se o *framework* [Autorank](https://sherbold.github.io/autorank/) que automatiza o processo de avaliação de métodos."
      ],
      "metadata": {
        "id": "Lzv_xmf4JqEb"
      }
    },
    {
      "cell_type": "markdown",
      "source": [
        "## Carregando Bibliotecas\n",
        "\n",
        "O experimento utiliza, além de Autorank, Pandas e Scikit-Learn para execução."
      ],
      "metadata": {
        "id": "xVe662m_Lzft"
      }
    },
    {
      "cell_type": "code",
      "execution_count": null,
      "metadata": {
        "collapsed": true,
        "id": "A844xr8QsKNO",
        "colab": {
          "base_uri": "https://localhost:8080/"
        },
        "outputId": "241a0d4b-77d2-4518-9c65-3f3d8b3c94b0"
      },
      "outputs": [
        {
          "output_type": "stream",
          "name": "stdout",
          "text": [
            "Collecting autorank\n",
            "  Downloading autorank-1.2.1-py3-none-any.whl.metadata (19 kB)\n",
            "Requirement already satisfied: numpy in /usr/local/lib/python3.11/dist-packages (from autorank) (2.0.2)\n",
            "Requirement already satisfied: pandas>=2.0.3 in /usr/local/lib/python3.11/dist-packages (from autorank) (2.2.2)\n",
            "Requirement already satisfied: statsmodels>=0.14.0 in /usr/local/lib/python3.11/dist-packages (from autorank) (0.14.4)\n",
            "Requirement already satisfied: scipy>=1.10.1 in /usr/local/lib/python3.11/dist-packages (from autorank) (1.15.3)\n",
            "Requirement already satisfied: matplotlib>=3.7.2 in /usr/local/lib/python3.11/dist-packages (from autorank) (3.10.0)\n",
            "Collecting baycomp>=1.0.3 (from autorank)\n",
            "  Downloading baycomp-1.0.3.tar.gz (15 kB)\n",
            "  Preparing metadata (setup.py) ... \u001b[?25l\u001b[?25hdone\n",
            "Requirement already satisfied: jinja2>=3.1.2 in /usr/local/lib/python3.11/dist-packages (from autorank) (3.1.6)\n",
            "Requirement already satisfied: MarkupSafe>=2.0 in /usr/local/lib/python3.11/dist-packages (from jinja2>=3.1.2->autorank) (3.0.2)\n",
            "Requirement already satisfied: contourpy>=1.0.1 in /usr/local/lib/python3.11/dist-packages (from matplotlib>=3.7.2->autorank) (1.3.2)\n",
            "Requirement already satisfied: cycler>=0.10 in /usr/local/lib/python3.11/dist-packages (from matplotlib>=3.7.2->autorank) (0.12.1)\n",
            "Requirement already satisfied: fonttools>=4.22.0 in /usr/local/lib/python3.11/dist-packages (from matplotlib>=3.7.2->autorank) (4.58.0)\n",
            "Requirement already satisfied: kiwisolver>=1.3.1 in /usr/local/lib/python3.11/dist-packages (from matplotlib>=3.7.2->autorank) (1.4.8)\n",
            "Requirement already satisfied: packaging>=20.0 in /usr/local/lib/python3.11/dist-packages (from matplotlib>=3.7.2->autorank) (24.2)\n",
            "Requirement already satisfied: pillow>=8 in /usr/local/lib/python3.11/dist-packages (from matplotlib>=3.7.2->autorank) (11.2.1)\n",
            "Requirement already satisfied: pyparsing>=2.3.1 in /usr/local/lib/python3.11/dist-packages (from matplotlib>=3.7.2->autorank) (3.2.3)\n",
            "Requirement already satisfied: python-dateutil>=2.7 in /usr/local/lib/python3.11/dist-packages (from matplotlib>=3.7.2->autorank) (2.9.0.post0)\n",
            "Requirement already satisfied: pytz>=2020.1 in /usr/local/lib/python3.11/dist-packages (from pandas>=2.0.3->autorank) (2025.2)\n",
            "Requirement already satisfied: tzdata>=2022.7 in /usr/local/lib/python3.11/dist-packages (from pandas>=2.0.3->autorank) (2025.2)\n",
            "Requirement already satisfied: patsy>=0.5.6 in /usr/local/lib/python3.11/dist-packages (from statsmodels>=0.14.0->autorank) (1.0.1)\n",
            "Requirement already satisfied: six>=1.5 in /usr/local/lib/python3.11/dist-packages (from python-dateutil>=2.7->matplotlib>=3.7.2->autorank) (1.17.0)\n",
            "Downloading autorank-1.2.1-py3-none-any.whl (35 kB)\n",
            "Building wheels for collected packages: baycomp\n",
            "  Building wheel for baycomp (setup.py) ... \u001b[?25l\u001b[?25hdone\n",
            "  Created wheel for baycomp: filename=baycomp-1.0.3-py3-none-any.whl size=18027 sha256=aee4148029f3b2e947133ba558111b8c1ba434b8d561c224368b381203c4b758\n",
            "  Stored in directory: /root/.cache/pip/wheels/2b/a2/b8/9c0b9ffde746a4e0c20639b46eae34dda4e0588efebde8916e\n",
            "Successfully built baycomp\n",
            "Installing collected packages: baycomp, autorank\n",
            "Successfully installed autorank-1.2.1 baycomp-1.0.3\n"
          ]
        }
      ],
      "source": [
        "!pip install autorank"
      ]
    },
    {
      "cell_type": "code",
      "source": [
        "import pandas as pd\n",
        "\n",
        "\n",
        "from autorank import autorank\n",
        "\n",
        "\n",
        "from sklearn.neural_network import MLPRegressor\n",
        "from sklearn.ensemble import RandomForestRegressor\n",
        "from sklearn.svm import SVR\n",
        "from sklearn.tree import DecisionTreeRegressor\n",
        "\n",
        "\n",
        "from sklearn.model_selection import train_test_split\n",
        "from sklearn.metrics import mean_squared_error\n",
        "from sklearn.preprocessing import MinMaxScaler\n",
        "\n",
        "from sklearn.model_selection  import RandomizedSearchCV\n",
        "from sklearn.pipeline import Pipeline"
      ],
      "metadata": {
        "id": "WygpaA8As1SP"
      },
      "execution_count": null,
      "outputs": []
    },
    {
      "cell_type": "markdown",
      "source": [
        "## Datasets\n",
        "\n",
        "Foram escolhidos dois *datasets* para a demonstração, todos estão presentes no site do Scikit-Learn. Todos foram separados em conjuntos de treino e de teste nas proporções 75%-25%, respectivamente."
      ],
      "metadata": {
        "id": "BxZxVSbLMDWg"
      }
    },
    {
      "cell_type": "code",
      "source": [
        "from sklearn.datasets import load_diabetes, fetch_california_housing"
      ],
      "metadata": {
        "id": "8NnZHlVUt7tT"
      },
      "execution_count": null,
      "outputs": []
    },
    {
      "cell_type": "code",
      "source": [
        "diabetes = load_diabetes()\n",
        "\n",
        "X_diabetes = diabetes.data\n",
        "y_diabetes = diabetes.target\n",
        "X_train_diabetes, X_test_diabetes, y_train_diabetes, y_test_diabetes = train_test_split(X_diabetes, y_diabetes, random_state=0)\n",
        "\n",
        "california = fetch_california_housing()\n",
        "X_california = california.data\n",
        "y_california = california.target\n",
        "X_train_california, X_test_california, y_train_california, y_test_california = train_test_split(X_california, y_california, random_state=0)\n"
      ],
      "metadata": {
        "id": "XSWtW32gyoNH"
      },
      "execution_count": null,
      "outputs": []
    },
    {
      "cell_type": "code",
      "source": [
        "X_data = {\n",
        "          'diabetes':[X_train_diabetes, y_train_diabetes, X_test_diabetes, y_test_diabetes],\n",
        "          'california':[X_train_california, y_train_california, X_test_california, y_test_california]\n",
        "\n",
        "          }"
      ],
      "metadata": {
        "id": "FeFf36epv9iA"
      },
      "execution_count": null,
      "outputs": []
    },
    {
      "cell_type": "markdown",
      "source": [
        "## Funçõe de Treino e de Teste\n",
        "\n",
        "O experimento utiliza quatro modelos de aprendizagem de máquina: Multilayer Percetron (MLP), Support Vector Machine (SVM), Random Forest e Árvore de Decisão."
      ],
      "metadata": {
        "id": "1_DPdTngM77K"
      }
    },
    {
      "cell_type": "code",
      "source": [
        "def rf_function(x_train, y_train, x_test, y_test):\n",
        "\n",
        "\n",
        "\n",
        "  RF_params = {'rf__n_estimators': [10,100,200],\n",
        "             'rf__max_depth':[None, 2, 3, 4]\n",
        "              }\n",
        "\n",
        "  pipe = Pipeline([('scaler',MinMaxScaler()) ,('rf', RandomForestRegressor())])\n",
        "  search = RandomizedSearchCV(pipe, RF_params, cv=3)\n",
        "  search.fit(x_train, y_train)\n",
        "  preds = search.predict(x_test)\n",
        "\n",
        "  score = mean_squared_error(y_test, preds)\n",
        "\n",
        "  return search.best_estimator_, preds, search.best_params_, score"
      ],
      "metadata": {
        "id": "EA01KFsp__6L"
      },
      "execution_count": null,
      "outputs": []
    },
    {
      "cell_type": "code",
      "source": [
        "def svm_function(x_train, y_train, x_test, y_test):\n",
        "\n",
        "\n",
        "  SVM_params =  {\n",
        "                'svm__C': [0.1, 00.1, 000.1],\n",
        "                'svm__kernel': ['linear', 'rbf']\n",
        "                }\n",
        "\n",
        "  pipe = Pipeline([('scaler',MinMaxScaler()) ,('svm', SVR())])\n",
        "  search = RandomizedSearchCV(pipe, SVM_params, cv=3)\n",
        "  search.fit(x_train, y_train)\n",
        "  preds = search.predict(x_test)\n",
        "\n",
        "  score = mean_squared_error(y_test, preds)\n",
        "\n",
        "  return search.best_estimator_, preds, search.best_params_, score"
      ],
      "metadata": {
        "id": "D1O2z78LBJuq"
      },
      "execution_count": null,
      "outputs": []
    },
    {
      "cell_type": "code",
      "source": [
        "def mlp_function(x_train, y_train, x_test, y_test):\n",
        "\n",
        "\n",
        "  MLP_params = {\n",
        "              'mlp__hidden_layer_sizes': [(50,50,50)],\n",
        "              'mlp__alpha': [0.0001, 0.05]\n",
        "                }\n",
        "\n",
        "  pipe = Pipeline([('scaler', MinMaxScaler()), ('mlp', MLPRegressor())])\n",
        "  search = RandomizedSearchCV(pipe, MLP_params, cv=3)\n",
        "  search.fit(x_train, y_train)\n",
        "  preds = search.predict(x_test)\n",
        "\n",
        "  score = mean_squared_error(y_test, preds)\n",
        "\n",
        "  return search.best_estimator_, preds, search.best_params_, score"
      ],
      "metadata": {
        "id": "kNTMYeoRBJ6D"
      },
      "execution_count": null,
      "outputs": []
    },
    {
      "cell_type": "code",
      "source": [
        "def dt_function(x_train, y_train, x_test, y_test):\n",
        "\n",
        "  DT_params = {\n",
        "              'dt__max_depth': [2, 3, 5, 10],\n",
        "              'dt__min_samples_split': [2, 3, 5],\n",
        "                }\n",
        "\n",
        "  pipe = Pipeline([('scaler', MinMaxScaler()), ('dt', DecisionTreeRegressor())])\n",
        "  search = RandomizedSearchCV(pipe, DT_params, cv=3)\n",
        "  search.fit(x_train, y_train)\n",
        "  preds = search.predict(x_test)\n",
        "\n",
        "  score = mean_squared_error(y_test, preds)\n",
        "\n",
        "  return search.best_estimator_, preds, search.best_params_, score"
      ],
      "metadata": {
        "id": "hIi8IpNMBKIm"
      },
      "execution_count": null,
      "outputs": []
    },
    {
      "cell_type": "code",
      "source": [
        "df_score = pd.DataFrame(columns=['dataset', 'rf','svm','mlp','dt'])"
      ],
      "metadata": {
        "id": "cadndL5bGhJf"
      },
      "execution_count": null,
      "outputs": []
    },
    {
      "cell_type": "markdown",
      "source": [
        "Os laços abaixo executam os experiemntos. O primeiro itera sobre a quantidade de experimentos por base de dados; o segundo, sobre as base de dados.\n",
        "\n",
        "Cada linha representa um experimento."
      ],
      "metadata": {
        "id": "3FoMxOdgOQh4"
      }
    },
    {
      "cell_type": "code",
      "source": [
        "for i in range(3):\n",
        "\n",
        "  for key, value in X_data.items():\n",
        "\n",
        "    print(\"\\U0001F680\", key.upper(), i)\n",
        "\n",
        "    x = value[0]\n",
        "    y = value[1]\n",
        "    x_test = value[2]\n",
        "    y_test = value[3]\n",
        "\n",
        "    rf_model, rf_preds, rf_params, rf_score = rf_function(x, y, x_test, y_test)\n",
        "    svm_model, svm_preds, svm_params, svm_score = svm_function(x, y, x_test, y_test)\n",
        "    mlp_model, mlp_preds, mlp_params, mlp_score = mlp_function(x, y, x_test, y_test)\n",
        "    dt_model, dt_preds, dt_params, dt_score = dt_function(x, y, x_test, y_test)\n",
        "\n",
        "    new_row = {'dataset':key+'-'+str(i), 'rf':rf_score, 'svm':svm_score, 'mlp':mlp_score , 'dt':dt_score}\n",
        "    df_score = pd.concat([df_score, pd.DataFrame([new_row])], ignore_index=True)\n",
        "\n",
        "    print(key.upper(), str(i), \"\\U00002705\" )\n",
        "    print()\n",
        "    print(\"#################\")\n",
        "\n",
        "\n",
        "\n",
        "\n",
        "\n",
        "\n"
      ],
      "metadata": {
        "colab": {
          "base_uri": "https://localhost:8080/"
        },
        "id": "2EqbzYJxt73L",
        "outputId": "8d505b5b-7cbf-4c50-dd35-288679c2a48c"
      },
      "execution_count": null,
      "outputs": [
        {
          "output_type": "stream",
          "name": "stdout",
          "text": [
            "🚀 DIABETES 0\n"
          ]
        },
        {
          "output_type": "stream",
          "name": "stderr",
          "text": [
            "/usr/local/lib/python3.11/dist-packages/sklearn/model_selection/_search.py:317: UserWarning: The total space of parameters 6 is smaller than n_iter=10. Running 6 iterations. For exhaustive searches, use GridSearchCV.\n",
            "  warnings.warn(\n",
            "/usr/local/lib/python3.11/dist-packages/sklearn/model_selection/_search.py:317: UserWarning: The total space of parameters 2 is smaller than n_iter=10. Running 2 iterations. For exhaustive searches, use GridSearchCV.\n",
            "  warnings.warn(\n",
            "/usr/local/lib/python3.11/dist-packages/sklearn/neural_network/_multilayer_perceptron.py:691: ConvergenceWarning: Stochastic Optimizer: Maximum iterations (200) reached and the optimization hasn't converged yet.\n",
            "  warnings.warn(\n",
            "/usr/local/lib/python3.11/dist-packages/sklearn/neural_network/_multilayer_perceptron.py:691: ConvergenceWarning: Stochastic Optimizer: Maximum iterations (200) reached and the optimization hasn't converged yet.\n",
            "  warnings.warn(\n",
            "/usr/local/lib/python3.11/dist-packages/sklearn/neural_network/_multilayer_perceptron.py:691: ConvergenceWarning: Stochastic Optimizer: Maximum iterations (200) reached and the optimization hasn't converged yet.\n",
            "  warnings.warn(\n",
            "/usr/local/lib/python3.11/dist-packages/sklearn/neural_network/_multilayer_perceptron.py:691: ConvergenceWarning: Stochastic Optimizer: Maximum iterations (200) reached and the optimization hasn't converged yet.\n",
            "  warnings.warn(\n",
            "/usr/local/lib/python3.11/dist-packages/sklearn/neural_network/_multilayer_perceptron.py:691: ConvergenceWarning: Stochastic Optimizer: Maximum iterations (200) reached and the optimization hasn't converged yet.\n",
            "  warnings.warn(\n",
            "/usr/local/lib/python3.11/dist-packages/sklearn/neural_network/_multilayer_perceptron.py:691: ConvergenceWarning: Stochastic Optimizer: Maximum iterations (200) reached and the optimization hasn't converged yet.\n",
            "  warnings.warn(\n",
            "/usr/local/lib/python3.11/dist-packages/sklearn/neural_network/_multilayer_perceptron.py:691: ConvergenceWarning: Stochastic Optimizer: Maximum iterations (200) reached and the optimization hasn't converged yet.\n",
            "  warnings.warn(\n"
          ]
        },
        {
          "output_type": "stream",
          "name": "stdout",
          "text": [
            "DIABETES 0 ✅\n",
            "\n",
            "#################\n",
            "🚀 CALIFORNIA 0\n"
          ]
        },
        {
          "output_type": "stream",
          "name": "stderr",
          "text": [
            "/usr/local/lib/python3.11/dist-packages/sklearn/model_selection/_search.py:317: UserWarning: The total space of parameters 6 is smaller than n_iter=10. Running 6 iterations. For exhaustive searches, use GridSearchCV.\n",
            "  warnings.warn(\n",
            "/usr/local/lib/python3.11/dist-packages/sklearn/model_selection/_search.py:317: UserWarning: The total space of parameters 2 is smaller than n_iter=10. Running 2 iterations. For exhaustive searches, use GridSearchCV.\n",
            "  warnings.warn(\n",
            "/usr/local/lib/python3.11/dist-packages/sklearn/neural_network/_multilayer_perceptron.py:691: ConvergenceWarning: Stochastic Optimizer: Maximum iterations (200) reached and the optimization hasn't converged yet.\n",
            "  warnings.warn(\n"
          ]
        },
        {
          "output_type": "stream",
          "name": "stdout",
          "text": [
            "CALIFORNIA 0 ✅\n",
            "\n",
            "#################\n",
            "🚀 DIABETES 1\n"
          ]
        },
        {
          "output_type": "stream",
          "name": "stderr",
          "text": [
            "/usr/local/lib/python3.11/dist-packages/sklearn/model_selection/_search.py:317: UserWarning: The total space of parameters 6 is smaller than n_iter=10. Running 6 iterations. For exhaustive searches, use GridSearchCV.\n",
            "  warnings.warn(\n",
            "/usr/local/lib/python3.11/dist-packages/sklearn/model_selection/_search.py:317: UserWarning: The total space of parameters 2 is smaller than n_iter=10. Running 2 iterations. For exhaustive searches, use GridSearchCV.\n",
            "  warnings.warn(\n",
            "/usr/local/lib/python3.11/dist-packages/sklearn/neural_network/_multilayer_perceptron.py:691: ConvergenceWarning: Stochastic Optimizer: Maximum iterations (200) reached and the optimization hasn't converged yet.\n",
            "  warnings.warn(\n",
            "/usr/local/lib/python3.11/dist-packages/sklearn/neural_network/_multilayer_perceptron.py:691: ConvergenceWarning: Stochastic Optimizer: Maximum iterations (200) reached and the optimization hasn't converged yet.\n",
            "  warnings.warn(\n",
            "/usr/local/lib/python3.11/dist-packages/sklearn/neural_network/_multilayer_perceptron.py:691: ConvergenceWarning: Stochastic Optimizer: Maximum iterations (200) reached and the optimization hasn't converged yet.\n",
            "  warnings.warn(\n",
            "/usr/local/lib/python3.11/dist-packages/sklearn/neural_network/_multilayer_perceptron.py:691: ConvergenceWarning: Stochastic Optimizer: Maximum iterations (200) reached and the optimization hasn't converged yet.\n",
            "  warnings.warn(\n",
            "/usr/local/lib/python3.11/dist-packages/sklearn/neural_network/_multilayer_perceptron.py:691: ConvergenceWarning: Stochastic Optimizer: Maximum iterations (200) reached and the optimization hasn't converged yet.\n",
            "  warnings.warn(\n",
            "/usr/local/lib/python3.11/dist-packages/sklearn/neural_network/_multilayer_perceptron.py:691: ConvergenceWarning: Stochastic Optimizer: Maximum iterations (200) reached and the optimization hasn't converged yet.\n",
            "  warnings.warn(\n",
            "/usr/local/lib/python3.11/dist-packages/sklearn/neural_network/_multilayer_perceptron.py:691: ConvergenceWarning: Stochastic Optimizer: Maximum iterations (200) reached and the optimization hasn't converged yet.\n",
            "  warnings.warn(\n"
          ]
        },
        {
          "output_type": "stream",
          "name": "stdout",
          "text": [
            "DIABETES 1 ✅\n",
            "\n",
            "#################\n",
            "🚀 CALIFORNIA 1\n"
          ]
        },
        {
          "output_type": "stream",
          "name": "stderr",
          "text": [
            "/usr/local/lib/python3.11/dist-packages/sklearn/model_selection/_search.py:317: UserWarning: The total space of parameters 6 is smaller than n_iter=10. Running 6 iterations. For exhaustive searches, use GridSearchCV.\n",
            "  warnings.warn(\n",
            "/usr/local/lib/python3.11/dist-packages/sklearn/model_selection/_search.py:317: UserWarning: The total space of parameters 2 is smaller than n_iter=10. Running 2 iterations. For exhaustive searches, use GridSearchCV.\n",
            "  warnings.warn(\n",
            "/usr/local/lib/python3.11/dist-packages/sklearn/neural_network/_multilayer_perceptron.py:691: ConvergenceWarning: Stochastic Optimizer: Maximum iterations (200) reached and the optimization hasn't converged yet.\n",
            "  warnings.warn(\n",
            "/usr/local/lib/python3.11/dist-packages/sklearn/neural_network/_multilayer_perceptron.py:691: ConvergenceWarning: Stochastic Optimizer: Maximum iterations (200) reached and the optimization hasn't converged yet.\n",
            "  warnings.warn(\n",
            "/usr/local/lib/python3.11/dist-packages/sklearn/neural_network/_multilayer_perceptron.py:691: ConvergenceWarning: Stochastic Optimizer: Maximum iterations (200) reached and the optimization hasn't converged yet.\n",
            "  warnings.warn(\n"
          ]
        },
        {
          "output_type": "stream",
          "name": "stdout",
          "text": [
            "CALIFORNIA 1 ✅\n",
            "\n",
            "#################\n",
            "🚀 DIABETES 2\n"
          ]
        },
        {
          "output_type": "stream",
          "name": "stderr",
          "text": [
            "/usr/local/lib/python3.11/dist-packages/sklearn/model_selection/_search.py:317: UserWarning: The total space of parameters 6 is smaller than n_iter=10. Running 6 iterations. For exhaustive searches, use GridSearchCV.\n",
            "  warnings.warn(\n",
            "/usr/local/lib/python3.11/dist-packages/sklearn/model_selection/_search.py:317: UserWarning: The total space of parameters 2 is smaller than n_iter=10. Running 2 iterations. For exhaustive searches, use GridSearchCV.\n",
            "  warnings.warn(\n",
            "/usr/local/lib/python3.11/dist-packages/sklearn/neural_network/_multilayer_perceptron.py:691: ConvergenceWarning: Stochastic Optimizer: Maximum iterations (200) reached and the optimization hasn't converged yet.\n",
            "  warnings.warn(\n",
            "/usr/local/lib/python3.11/dist-packages/sklearn/neural_network/_multilayer_perceptron.py:691: ConvergenceWarning: Stochastic Optimizer: Maximum iterations (200) reached and the optimization hasn't converged yet.\n",
            "  warnings.warn(\n",
            "/usr/local/lib/python3.11/dist-packages/sklearn/neural_network/_multilayer_perceptron.py:691: ConvergenceWarning: Stochastic Optimizer: Maximum iterations (200) reached and the optimization hasn't converged yet.\n",
            "  warnings.warn(\n",
            "/usr/local/lib/python3.11/dist-packages/sklearn/neural_network/_multilayer_perceptron.py:691: ConvergenceWarning: Stochastic Optimizer: Maximum iterations (200) reached and the optimization hasn't converged yet.\n",
            "  warnings.warn(\n",
            "/usr/local/lib/python3.11/dist-packages/sklearn/neural_network/_multilayer_perceptron.py:691: ConvergenceWarning: Stochastic Optimizer: Maximum iterations (200) reached and the optimization hasn't converged yet.\n",
            "  warnings.warn(\n",
            "/usr/local/lib/python3.11/dist-packages/sklearn/neural_network/_multilayer_perceptron.py:691: ConvergenceWarning: Stochastic Optimizer: Maximum iterations (200) reached and the optimization hasn't converged yet.\n",
            "  warnings.warn(\n",
            "/usr/local/lib/python3.11/dist-packages/sklearn/neural_network/_multilayer_perceptron.py:691: ConvergenceWarning: Stochastic Optimizer: Maximum iterations (200) reached and the optimization hasn't converged yet.\n",
            "  warnings.warn(\n"
          ]
        },
        {
          "output_type": "stream",
          "name": "stdout",
          "text": [
            "DIABETES 2 ✅\n",
            "\n",
            "#################\n",
            "🚀 CALIFORNIA 2\n"
          ]
        },
        {
          "output_type": "stream",
          "name": "stderr",
          "text": [
            "/usr/local/lib/python3.11/dist-packages/sklearn/model_selection/_search.py:317: UserWarning: The total space of parameters 6 is smaller than n_iter=10. Running 6 iterations. For exhaustive searches, use GridSearchCV.\n",
            "  warnings.warn(\n",
            "/usr/local/lib/python3.11/dist-packages/sklearn/model_selection/_search.py:317: UserWarning: The total space of parameters 2 is smaller than n_iter=10. Running 2 iterations. For exhaustive searches, use GridSearchCV.\n",
            "  warnings.warn(\n",
            "/usr/local/lib/python3.11/dist-packages/sklearn/neural_network/_multilayer_perceptron.py:691: ConvergenceWarning: Stochastic Optimizer: Maximum iterations (200) reached and the optimization hasn't converged yet.\n",
            "  warnings.warn(\n",
            "/usr/local/lib/python3.11/dist-packages/sklearn/neural_network/_multilayer_perceptron.py:691: ConvergenceWarning: Stochastic Optimizer: Maximum iterations (200) reached and the optimization hasn't converged yet.\n",
            "  warnings.warn(\n"
          ]
        },
        {
          "output_type": "stream",
          "name": "stdout",
          "text": [
            "CALIFORNIA 2 ✅\n",
            "\n",
            "#################\n"
          ]
        }
      ]
    },
    {
      "cell_type": "code",
      "source": [
        "df_score"
      ],
      "metadata": {
        "id": "g1geMYbpt784",
        "colab": {
          "base_uri": "https://localhost:8080/",
          "height": 363
        },
        "outputId": "73d63dc3-ac38-4729-ddaf-e295420e1325"
      },
      "execution_count": null,
      "outputs": [
        {
          "output_type": "execute_result",
          "data": {
            "text/plain": [
              "        dataset           rf          svm          mlp           dt\n",
              "0    diabetes-0  3603.980182  5060.834808  3067.385862  4533.663798\n",
              "1  california-0     0.271815     0.498961     0.320867     0.422534\n",
              "2    diabetes-1  3503.127810  5060.834808  2990.880994  4533.663798\n",
              "3  california-1     0.272505     0.498961     0.306757     0.420216\n",
              "4    diabetes-0  3512.172560  5060.834808  3085.658571  4533.663798\n",
              "5  california-0     0.271318     0.498961     0.302387     0.431735\n",
              "6    diabetes-1  3638.163873  5060.834808  3051.792358  4533.663798\n",
              "7  california-1     0.270367     0.498961     0.302926     0.424121\n",
              "8    diabetes-2  3614.579163  5060.834808  3031.530383  4533.663798\n",
              "9  california-2     0.273809     0.498961     0.287081     0.425336"
            ],
            "text/html": [
              "\n",
              "  <div id=\"df-49b149ab-e79c-4e9e-88d2-3c52794458f7\" class=\"colab-df-container\">\n",
              "    <div>\n",
              "<style scoped>\n",
              "    .dataframe tbody tr th:only-of-type {\n",
              "        vertical-align: middle;\n",
              "    }\n",
              "\n",
              "    .dataframe tbody tr th {\n",
              "        vertical-align: top;\n",
              "    }\n",
              "\n",
              "    .dataframe thead th {\n",
              "        text-align: right;\n",
              "    }\n",
              "</style>\n",
              "<table border=\"1\" class=\"dataframe\">\n",
              "  <thead>\n",
              "    <tr style=\"text-align: right;\">\n",
              "      <th></th>\n",
              "      <th>dataset</th>\n",
              "      <th>rf</th>\n",
              "      <th>svm</th>\n",
              "      <th>mlp</th>\n",
              "      <th>dt</th>\n",
              "    </tr>\n",
              "  </thead>\n",
              "  <tbody>\n",
              "    <tr>\n",
              "      <th>0</th>\n",
              "      <td>diabetes-0</td>\n",
              "      <td>3603.980182</td>\n",
              "      <td>5060.834808</td>\n",
              "      <td>3067.385862</td>\n",
              "      <td>4533.663798</td>\n",
              "    </tr>\n",
              "    <tr>\n",
              "      <th>1</th>\n",
              "      <td>california-0</td>\n",
              "      <td>0.271815</td>\n",
              "      <td>0.498961</td>\n",
              "      <td>0.320867</td>\n",
              "      <td>0.422534</td>\n",
              "    </tr>\n",
              "    <tr>\n",
              "      <th>2</th>\n",
              "      <td>diabetes-1</td>\n",
              "      <td>3503.127810</td>\n",
              "      <td>5060.834808</td>\n",
              "      <td>2990.880994</td>\n",
              "      <td>4533.663798</td>\n",
              "    </tr>\n",
              "    <tr>\n",
              "      <th>3</th>\n",
              "      <td>california-1</td>\n",
              "      <td>0.272505</td>\n",
              "      <td>0.498961</td>\n",
              "      <td>0.306757</td>\n",
              "      <td>0.420216</td>\n",
              "    </tr>\n",
              "    <tr>\n",
              "      <th>4</th>\n",
              "      <td>diabetes-0</td>\n",
              "      <td>3512.172560</td>\n",
              "      <td>5060.834808</td>\n",
              "      <td>3085.658571</td>\n",
              "      <td>4533.663798</td>\n",
              "    </tr>\n",
              "    <tr>\n",
              "      <th>5</th>\n",
              "      <td>california-0</td>\n",
              "      <td>0.271318</td>\n",
              "      <td>0.498961</td>\n",
              "      <td>0.302387</td>\n",
              "      <td>0.431735</td>\n",
              "    </tr>\n",
              "    <tr>\n",
              "      <th>6</th>\n",
              "      <td>diabetes-1</td>\n",
              "      <td>3638.163873</td>\n",
              "      <td>5060.834808</td>\n",
              "      <td>3051.792358</td>\n",
              "      <td>4533.663798</td>\n",
              "    </tr>\n",
              "    <tr>\n",
              "      <th>7</th>\n",
              "      <td>california-1</td>\n",
              "      <td>0.270367</td>\n",
              "      <td>0.498961</td>\n",
              "      <td>0.302926</td>\n",
              "      <td>0.424121</td>\n",
              "    </tr>\n",
              "    <tr>\n",
              "      <th>8</th>\n",
              "      <td>diabetes-2</td>\n",
              "      <td>3614.579163</td>\n",
              "      <td>5060.834808</td>\n",
              "      <td>3031.530383</td>\n",
              "      <td>4533.663798</td>\n",
              "    </tr>\n",
              "    <tr>\n",
              "      <th>9</th>\n",
              "      <td>california-2</td>\n",
              "      <td>0.273809</td>\n",
              "      <td>0.498961</td>\n",
              "      <td>0.287081</td>\n",
              "      <td>0.425336</td>\n",
              "    </tr>\n",
              "  </tbody>\n",
              "</table>\n",
              "</div>\n",
              "    <div class=\"colab-df-buttons\">\n",
              "\n",
              "  <div class=\"colab-df-container\">\n",
              "    <button class=\"colab-df-convert\" onclick=\"convertToInteractive('df-49b149ab-e79c-4e9e-88d2-3c52794458f7')\"\n",
              "            title=\"Convert this dataframe to an interactive table.\"\n",
              "            style=\"display:none;\">\n",
              "\n",
              "  <svg xmlns=\"http://www.w3.org/2000/svg\" height=\"24px\" viewBox=\"0 -960 960 960\">\n",
              "    <path d=\"M120-120v-720h720v720H120Zm60-500h600v-160H180v160Zm220 220h160v-160H400v160Zm0 220h160v-160H400v160ZM180-400h160v-160H180v160Zm440 0h160v-160H620v160ZM180-180h160v-160H180v160Zm440 0h160v-160H620v160Z\"/>\n",
              "  </svg>\n",
              "    </button>\n",
              "\n",
              "  <style>\n",
              "    .colab-df-container {\n",
              "      display:flex;\n",
              "      gap: 12px;\n",
              "    }\n",
              "\n",
              "    .colab-df-convert {\n",
              "      background-color: #E8F0FE;\n",
              "      border: none;\n",
              "      border-radius: 50%;\n",
              "      cursor: pointer;\n",
              "      display: none;\n",
              "      fill: #1967D2;\n",
              "      height: 32px;\n",
              "      padding: 0 0 0 0;\n",
              "      width: 32px;\n",
              "    }\n",
              "\n",
              "    .colab-df-convert:hover {\n",
              "      background-color: #E2EBFA;\n",
              "      box-shadow: 0px 1px 2px rgba(60, 64, 67, 0.3), 0px 1px 3px 1px rgba(60, 64, 67, 0.15);\n",
              "      fill: #174EA6;\n",
              "    }\n",
              "\n",
              "    .colab-df-buttons div {\n",
              "      margin-bottom: 4px;\n",
              "    }\n",
              "\n",
              "    [theme=dark] .colab-df-convert {\n",
              "      background-color: #3B4455;\n",
              "      fill: #D2E3FC;\n",
              "    }\n",
              "\n",
              "    [theme=dark] .colab-df-convert:hover {\n",
              "      background-color: #434B5C;\n",
              "      box-shadow: 0px 1px 3px 1px rgba(0, 0, 0, 0.15);\n",
              "      filter: drop-shadow(0px 1px 2px rgba(0, 0, 0, 0.3));\n",
              "      fill: #FFFFFF;\n",
              "    }\n",
              "  </style>\n",
              "\n",
              "    <script>\n",
              "      const buttonEl =\n",
              "        document.querySelector('#df-49b149ab-e79c-4e9e-88d2-3c52794458f7 button.colab-df-convert');\n",
              "      buttonEl.style.display =\n",
              "        google.colab.kernel.accessAllowed ? 'block' : 'none';\n",
              "\n",
              "      async function convertToInteractive(key) {\n",
              "        const element = document.querySelector('#df-49b149ab-e79c-4e9e-88d2-3c52794458f7');\n",
              "        const dataTable =\n",
              "          await google.colab.kernel.invokeFunction('convertToInteractive',\n",
              "                                                    [key], {});\n",
              "        if (!dataTable) return;\n",
              "\n",
              "        const docLinkHtml = 'Like what you see? Visit the ' +\n",
              "          '<a target=\"_blank\" href=https://colab.research.google.com/notebooks/data_table.ipynb>data table notebook</a>'\n",
              "          + ' to learn more about interactive tables.';\n",
              "        element.innerHTML = '';\n",
              "        dataTable['output_type'] = 'display_data';\n",
              "        await google.colab.output.renderOutput(dataTable, element);\n",
              "        const docLink = document.createElement('div');\n",
              "        docLink.innerHTML = docLinkHtml;\n",
              "        element.appendChild(docLink);\n",
              "      }\n",
              "    </script>\n",
              "  </div>\n",
              "\n",
              "\n",
              "    <div id=\"df-79a9b780-3058-4df8-be6d-4fa695bc3415\">\n",
              "      <button class=\"colab-df-quickchart\" onclick=\"quickchart('df-79a9b780-3058-4df8-be6d-4fa695bc3415')\"\n",
              "                title=\"Suggest charts\"\n",
              "                style=\"display:none;\">\n",
              "\n",
              "<svg xmlns=\"http://www.w3.org/2000/svg\" height=\"24px\"viewBox=\"0 0 24 24\"\n",
              "     width=\"24px\">\n",
              "    <g>\n",
              "        <path d=\"M19 3H5c-1.1 0-2 .9-2 2v14c0 1.1.9 2 2 2h14c1.1 0 2-.9 2-2V5c0-1.1-.9-2-2-2zM9 17H7v-7h2v7zm4 0h-2V7h2v10zm4 0h-2v-4h2v4z\"/>\n",
              "    </g>\n",
              "</svg>\n",
              "      </button>\n",
              "\n",
              "<style>\n",
              "  .colab-df-quickchart {\n",
              "      --bg-color: #E8F0FE;\n",
              "      --fill-color: #1967D2;\n",
              "      --hover-bg-color: #E2EBFA;\n",
              "      --hover-fill-color: #174EA6;\n",
              "      --disabled-fill-color: #AAA;\n",
              "      --disabled-bg-color: #DDD;\n",
              "  }\n",
              "\n",
              "  [theme=dark] .colab-df-quickchart {\n",
              "      --bg-color: #3B4455;\n",
              "      --fill-color: #D2E3FC;\n",
              "      --hover-bg-color: #434B5C;\n",
              "      --hover-fill-color: #FFFFFF;\n",
              "      --disabled-bg-color: #3B4455;\n",
              "      --disabled-fill-color: #666;\n",
              "  }\n",
              "\n",
              "  .colab-df-quickchart {\n",
              "    background-color: var(--bg-color);\n",
              "    border: none;\n",
              "    border-radius: 50%;\n",
              "    cursor: pointer;\n",
              "    display: none;\n",
              "    fill: var(--fill-color);\n",
              "    height: 32px;\n",
              "    padding: 0;\n",
              "    width: 32px;\n",
              "  }\n",
              "\n",
              "  .colab-df-quickchart:hover {\n",
              "    background-color: var(--hover-bg-color);\n",
              "    box-shadow: 0 1px 2px rgba(60, 64, 67, 0.3), 0 1px 3px 1px rgba(60, 64, 67, 0.15);\n",
              "    fill: var(--button-hover-fill-color);\n",
              "  }\n",
              "\n",
              "  .colab-df-quickchart-complete:disabled,\n",
              "  .colab-df-quickchart-complete:disabled:hover {\n",
              "    background-color: var(--disabled-bg-color);\n",
              "    fill: var(--disabled-fill-color);\n",
              "    box-shadow: none;\n",
              "  }\n",
              "\n",
              "  .colab-df-spinner {\n",
              "    border: 2px solid var(--fill-color);\n",
              "    border-color: transparent;\n",
              "    border-bottom-color: var(--fill-color);\n",
              "    animation:\n",
              "      spin 1s steps(1) infinite;\n",
              "  }\n",
              "\n",
              "  @keyframes spin {\n",
              "    0% {\n",
              "      border-color: transparent;\n",
              "      border-bottom-color: var(--fill-color);\n",
              "      border-left-color: var(--fill-color);\n",
              "    }\n",
              "    20% {\n",
              "      border-color: transparent;\n",
              "      border-left-color: var(--fill-color);\n",
              "      border-top-color: var(--fill-color);\n",
              "    }\n",
              "    30% {\n",
              "      border-color: transparent;\n",
              "      border-left-color: var(--fill-color);\n",
              "      border-top-color: var(--fill-color);\n",
              "      border-right-color: var(--fill-color);\n",
              "    }\n",
              "    40% {\n",
              "      border-color: transparent;\n",
              "      border-right-color: var(--fill-color);\n",
              "      border-top-color: var(--fill-color);\n",
              "    }\n",
              "    60% {\n",
              "      border-color: transparent;\n",
              "      border-right-color: var(--fill-color);\n",
              "    }\n",
              "    80% {\n",
              "      border-color: transparent;\n",
              "      border-right-color: var(--fill-color);\n",
              "      border-bottom-color: var(--fill-color);\n",
              "    }\n",
              "    90% {\n",
              "      border-color: transparent;\n",
              "      border-bottom-color: var(--fill-color);\n",
              "    }\n",
              "  }\n",
              "</style>\n",
              "\n",
              "      <script>\n",
              "        async function quickchart(key) {\n",
              "          const quickchartButtonEl =\n",
              "            document.querySelector('#' + key + ' button');\n",
              "          quickchartButtonEl.disabled = true;  // To prevent multiple clicks.\n",
              "          quickchartButtonEl.classList.add('colab-df-spinner');\n",
              "          try {\n",
              "            const charts = await google.colab.kernel.invokeFunction(\n",
              "                'suggestCharts', [key], {});\n",
              "          } catch (error) {\n",
              "            console.error('Error during call to suggestCharts:', error);\n",
              "          }\n",
              "          quickchartButtonEl.classList.remove('colab-df-spinner');\n",
              "          quickchartButtonEl.classList.add('colab-df-quickchart-complete');\n",
              "        }\n",
              "        (() => {\n",
              "          let quickchartButtonEl =\n",
              "            document.querySelector('#df-79a9b780-3058-4df8-be6d-4fa695bc3415 button');\n",
              "          quickchartButtonEl.style.display =\n",
              "            google.colab.kernel.accessAllowed ? 'block' : 'none';\n",
              "        })();\n",
              "      </script>\n",
              "    </div>\n",
              "\n",
              "  <div id=\"id_f4e6772c-2410-45dd-9026-65573870f1b9\">\n",
              "    <style>\n",
              "      .colab-df-generate {\n",
              "        background-color: #E8F0FE;\n",
              "        border: none;\n",
              "        border-radius: 50%;\n",
              "        cursor: pointer;\n",
              "        display: none;\n",
              "        fill: #1967D2;\n",
              "        height: 32px;\n",
              "        padding: 0 0 0 0;\n",
              "        width: 32px;\n",
              "      }\n",
              "\n",
              "      .colab-df-generate:hover {\n",
              "        background-color: #E2EBFA;\n",
              "        box-shadow: 0px 1px 2px rgba(60, 64, 67, 0.3), 0px 1px 3px 1px rgba(60, 64, 67, 0.15);\n",
              "        fill: #174EA6;\n",
              "      }\n",
              "\n",
              "      [theme=dark] .colab-df-generate {\n",
              "        background-color: #3B4455;\n",
              "        fill: #D2E3FC;\n",
              "      }\n",
              "\n",
              "      [theme=dark] .colab-df-generate:hover {\n",
              "        background-color: #434B5C;\n",
              "        box-shadow: 0px 1px 3px 1px rgba(0, 0, 0, 0.15);\n",
              "        filter: drop-shadow(0px 1px 2px rgba(0, 0, 0, 0.3));\n",
              "        fill: #FFFFFF;\n",
              "      }\n",
              "    </style>\n",
              "    <button class=\"colab-df-generate\" onclick=\"generateWithVariable('df_score')\"\n",
              "            title=\"Generate code using this dataframe.\"\n",
              "            style=\"display:none;\">\n",
              "\n",
              "  <svg xmlns=\"http://www.w3.org/2000/svg\" height=\"24px\"viewBox=\"0 0 24 24\"\n",
              "       width=\"24px\">\n",
              "    <path d=\"M7,19H8.4L18.45,9,17,7.55,7,17.6ZM5,21V16.75L18.45,3.32a2,2,0,0,1,2.83,0l1.4,1.43a1.91,1.91,0,0,1,.58,1.4,1.91,1.91,0,0,1-.58,1.4L9.25,21ZM18.45,9,17,7.55Zm-12,3A5.31,5.31,0,0,0,4.9,8.1,5.31,5.31,0,0,0,1,6.5,5.31,5.31,0,0,0,4.9,4.9,5.31,5.31,0,0,0,6.5,1,5.31,5.31,0,0,0,8.1,4.9,5.31,5.31,0,0,0,12,6.5,5.46,5.46,0,0,0,6.5,12Z\"/>\n",
              "  </svg>\n",
              "    </button>\n",
              "    <script>\n",
              "      (() => {\n",
              "      const buttonEl =\n",
              "        document.querySelector('#id_f4e6772c-2410-45dd-9026-65573870f1b9 button.colab-df-generate');\n",
              "      buttonEl.style.display =\n",
              "        google.colab.kernel.accessAllowed ? 'block' : 'none';\n",
              "\n",
              "      buttonEl.onclick = () => {\n",
              "        google.colab.notebook.generateWithVariable('df_score');\n",
              "      }\n",
              "      })();\n",
              "    </script>\n",
              "  </div>\n",
              "\n",
              "    </div>\n",
              "  </div>\n"
            ],
            "application/vnd.google.colaboratory.intrinsic+json": {
              "type": "dataframe",
              "variable_name": "df_score",
              "summary": "{\n  \"name\": \"df_score\",\n  \"rows\": 10,\n  \"fields\": [\n    {\n      \"column\": \"dataset\",\n      \"properties\": {\n        \"dtype\": \"string\",\n        \"num_unique_values\": 6,\n        \"samples\": [\n          \"diabetes-0\",\n          \"california-0\",\n          \"california-2\"\n        ],\n        \"semantic_type\": \"\",\n        \"description\": \"\"\n      }\n    },\n    {\n      \"column\": \"rf\",\n      \"properties\": {\n        \"dtype\": \"number\",\n        \"std\": 1884.1906466135533,\n        \"min\": 0.27036656783587926,\n        \"max\": 3638.163872861328,\n        \"num_unique_values\": 10,\n        \"samples\": [\n          3614.5791634587713,\n          0.2718151664325839,\n          0.27131839969792915\n        ],\n        \"semantic_type\": \"\",\n        \"description\": \"\"\n      }\n    },\n    {\n      \"column\": \"svm\",\n      \"properties\": {\n        \"dtype\": \"number\",\n        \"std\": 2667.0311668106033,\n        \"min\": 0.4989608686260581,\n        \"max\": 5060.834807535412,\n        \"num_unique_values\": 2,\n        \"samples\": [\n          0.4989608686260581,\n          5060.834807535412\n        ],\n        \"semantic_type\": \"\",\n        \"description\": \"\"\n      }\n    },\n    {\n      \"column\": \"mlp\",\n      \"properties\": {\n        \"dtype\": \"number\",\n        \"std\": 1605.1164527739372,\n        \"min\": 0.2870814639724707,\n        \"max\": 3085.6585712120514,\n        \"num_unique_values\": 10,\n        \"samples\": [\n          3031.530382917143,\n          0.32086670440490234\n        ],\n        \"semantic_type\": \"\",\n        \"description\": \"\"\n      }\n    },\n    {\n      \"column\": \"dt\",\n      \"properties\": {\n        \"dtype\": \"number\",\n        \"std\": 2389.2267411757416,\n        \"min\": 0.42021630567317275,\n        \"max\": 4533.663797665985,\n        \"num_unique_values\": 6,\n        \"samples\": [\n          4533.663797665985,\n          0.42253441443700507\n        ],\n        \"semantic_type\": \"\",\n        \"description\": \"\"\n      }\n    }\n  ]\n}"
            }
          },
          "metadata": {},
          "execution_count": 46
        }
      ]
    },
    {
      "cell_type": "code",
      "source": [
        "from autorank import autorank, plot_stats, create_report, latex_table"
      ],
      "metadata": {
        "id": "bV5Cd-7Tt8BP"
      },
      "execution_count": null,
      "outputs": []
    },
    {
      "cell_type": "code",
      "source": [
        "result = autorank(df_score.iloc[:,1:], alpha=0.05, verbose=False,order='ascending')\n",
        "print(result)"
      ],
      "metadata": {
        "colab": {
          "base_uri": "https://localhost:8080/"
        },
        "id": "Kqd9bcRfxgyW",
        "outputId": "57a5cb3f-417c-4ddb-a151-c5f176ac8722"
      },
      "execution_count": null,
      "outputs": [
        {
          "output_type": "stream",
          "name": "stdout",
          "text": [
            "RankResult(rankdf=\n",
            "     meanrank       median          mad  ci_lower     ci_upper effect_size  \\\n",
            "rf        1.5  1751.700810  1751.429967  0.270367  3638.163873         0.0   \n",
            "mlp       1.5  1495.600931  1495.306197  0.287081  3085.658571    0.106077   \n",
            "dt        3.0  2267.047766  2266.616032  0.420216  4533.663798   -0.171613   \n",
            "svm       4.0  2530.666884  2530.167923  0.498961  5060.834808   -0.241464   \n",
            "\n",
            "      magnitude  \n",
            "rf   negligible  \n",
            "mlp  negligible  \n",
            "dt   negligible  \n",
            "svm       small  \n",
            "pvalue=5.887355583577668e-06\n",
            "cd=1.483221853685529\n",
            "omnibus=friedman\n",
            "posthoc=nemenyi\n",
            "all_normal=False\n",
            "pvals_shapiro=[np.float64(0.00036236457310408215), np.float64(0.0002539677634216995), np.float64(0.0002539627375607894), np.float64(0.00032789659440061574)]\n",
            "homoscedastic=False\n",
            "pval_homogeneity=2.303418633856274e-39\n",
            "homogeneity_test=levene\n",
            "alpha=0.05\n",
            "alpha_normality=0.0125\n",
            "num_samples=10\n",
            "posterior_matrix=\n",
            "None\n",
            "decision_matrix=\n",
            "None\n",
            "rope=None\n",
            "rope_mode=None\n",
            "effect_size=akinshin_gamma\n",
            "force_mode=None)\n"
          ]
        }
      ]
    },
    {
      "cell_type": "code",
      "source": [
        "print(create_report(result))"
      ],
      "metadata": {
        "colab": {
          "base_uri": "https://localhost:8080/"
        },
        "id": "wux4_IOKxhJK",
        "outputId": "620a4383-0267-4f9d-bda3-6a89e8ba2882"
      },
      "execution_count": null,
      "outputs": [
        {
          "output_type": "stream",
          "name": "stdout",
          "text": [
            "The statistical analysis was conducted for 4 populations with 10 paired samples.\n",
            "The family-wise significance level of the tests is alpha=0.050.\n",
            "We rejected the null hypothesis that the population is normal for the populations rf (p=0.000), mlp (p=0.000), dt (p=0.000), and svm (p=0.000). Therefore, we assume that not all populations are normal.\n",
            "Because we have more than two populations and the populations and some of them are not normal, we use the non-parametric Friedman test as omnibus test to determine if there are any significant differences between the median values of the populations. We use the post-hoc Nemenyi test to infer which differences are significant. We report the median (MD), the median absolute deviation (MAD) and the mean rank (MR) among all populations over the samples. Differences between populations are significant, if the difference of the mean rank is greater than the critical distance CD=1.483 of the Nemenyi test.\n",
            "We reject the null hypothesis (p=0.000) of the Friedman test that there is no difference in the central tendency of the populations rf (MD=1751.701+-1818.947, MAD=1751.430, MR=1.500), mlp (MD=1495.601+-1542.686, MAD=1495.306, MR=1.500), dt (MD=2267.048+-2266.622, MAD=2266.616, MR=3.000), and svm (MD=2530.667+-2530.168, MAD=2530.168, MR=4.000). Therefore, we assume that there is a statistically significant difference between the median values of the populations.\n",
            "Based on the post-hoc Nemenyi test, we assume that there are no significant differences within the following groups: rf and mlp; dt and svm. All other differences are significant.\n",
            "None\n"
          ]
        }
      ]
    },
    {
      "cell_type": "code",
      "source": [
        "plot_stats(result)"
      ],
      "metadata": {
        "colab": {
          "base_uri": "https://localhost:8080/",
          "height": 219
        },
        "id": "OhtQ4Y_ayvqW",
        "outputId": "92eba823-ede7-4d4c-9308-77142c91b4e1"
      },
      "execution_count": null,
      "outputs": [
        {
          "output_type": "execute_result",
          "data": {
            "text/plain": [
              "<Axes: >"
            ]
          },
          "metadata": {},
          "execution_count": 53
        },
        {
          "output_type": "display_data",
          "data": {
            "text/plain": [
              "<Figure size 600x165 with 1 Axes>"
            ],
            "image/png": "[encoded data removed]"
          },
          "metadata": {}
        }
      ]
    },
    {
      "cell_type": "code",
      "source": [],
      "metadata": {
        "id": "I43-q4xLzAXG"
      },
      "execution_count": null,
      "outputs": []
    }
  ]
}